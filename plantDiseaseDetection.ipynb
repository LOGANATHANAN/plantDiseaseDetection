{
  "cells": [
    {
      "cell_type": "markdown",
      "metadata": {},
      "source": [
        "# Convolutional Neural Network"
      ]
    },
    {
      "cell_type": "markdown",
      "metadata": {},
      "source": [
        "### Importing libraries"
      ]
    },
    {
      "cell_type": "code",
      "execution_count": 49,
      "metadata": {},
      "outputs": [],
      "source": [
        "import tensorflow as tf\n",
        "from keras.preprocessing.image import ImageDataGenerator\n",
        "from keras.models import load_model\n",
        "from keras.preprocessing import image\n",
        "import matplotlib.pyplot as plt\n",
        "import numpy as np"
      ]
    },
    {
      "cell_type": "code",
      "execution_count": 50,
      "metadata": {},
      "outputs": [],
      "source": [
        "dir =\"dataset\""
      ]
    },
    {
      "cell_type": "markdown",
      "metadata": {},
      "source": [
        "## Part 1 - Data Preprocessing"
      ]
    },
    {
      "cell_type": "code",
      "execution_count": 51,
      "metadata": {
        "colab": {
          "base_uri": "https://localhost:8080/"
        },
        "id": "4GigZzKDqj8a",
        "outputId": "2fd66cdb-f221-4057-c59e-0abc304128d8"
      },
      "outputs": [
        {
          "name": "stdout",
          "output_type": "stream",
          "text": [
            "Found 10019 images belonging to 10 classes.\n",
            "Found 2502 images belonging to 10 classes.\n"
          ]
        }
      ],
      "source": [
        "train_datagen = ImageDataGenerator( rescale = 1./255,\n",
        "                                    rotation_range = 30,\n",
        "                                    shear_range = 0.2,\n",
        "                                    zoom_range = 0.2,\n",
        "                                    width_shift_range=0.05,\n",
        "                                    height_shift_range=0.05,\n",
        "                                    horizontal_flip = True,\n",
        "                                    fill_mode = 'nearest',\n",
        "                                    validation_split = 0.2)\n",
        "training_set = train_datagen.flow_from_directory(dir,\n",
        "                                                 target_size = (256, 256),\n",
        "                                                 batch_size = 32,\n",
        "                                                  subset= \"training\",\n",
        "                                                class_mode = \"categorical\",\n",
        "                                                color_mode = \"rgb\"\n",
        "                                                 )\n",
        "\n",
        "\n",
        "test_datagen = ImageDataGenerator(rescale = 1./255,\n",
        "                                  validation_split=0.2\n",
        "                                 )\n",
        "test_set = test_datagen.flow_from_directory(dir,\n",
        "                                            target_size = (256, 256),\n",
        "                                            batch_size = 32,\n",
        "                                             subset= \"validation\",\n",
        "                                            class_mode = \"categorical\",\n",
        "                                            color_mode = \"rgb\"\n",
        "                                            )\n"
      ]
    },
    {
      "cell_type": "markdown",
      "metadata": {},
      "source": [
        "## Part 2 - Building the CNN"
      ]
    },
    {
      "cell_type": "code",
      "execution_count": 52,
      "metadata": {
        "colab": {
          "base_uri": "https://localhost:8080/"
        },
        "id": "Y_IzaPa0reiD",
        "outputId": "e37e1359-6f49-400a-b56b-095c8da7a3a3"
      },
      "outputs": [
        {
          "name": "stdout",
          "output_type": "stream",
          "text": [
            "Model: \"sequential_4\"\n",
            "_________________________________________________________________\n",
            " Layer (type)                Output Shape              Param #   \n",
            "=================================================================\n",
            " conv2d_9 (Conv2D)           (None, 254, 254, 32)      896       \n",
            "                                                                 \n",
            " max_pooling2d_9 (MaxPooling  (None, 127, 127, 32)     0         \n",
            " 2D)                                                             \n",
            "                                                                 \n",
            " conv2d_10 (Conv2D)          (None, 125, 125, 32)      9248      \n",
            "                                                                 \n",
            " max_pooling2d_10 (MaxPoolin  (None, 62, 62, 32)       0         \n",
            " g2D)                                                            \n",
            "                                                                 \n",
            " conv2d_11 (Conv2D)          (None, 60, 60, 32)        9248      \n",
            "                                                                 \n",
            " max_pooling2d_11 (MaxPoolin  (None, 30, 30, 32)       0         \n",
            " g2D)                                                            \n",
            "                                                                 \n",
            " flatten_4 (Flatten)         (None, 28800)             0         \n",
            "                                                                 \n",
            " dense_9 (Dense)             (None, 128)               3686528   \n",
            "                                                                 \n",
            " dropout_4 (Dropout)         (None, 128)               0         \n",
            "                                                                 \n",
            " dense_10 (Dense)            (None, 128)               16512     \n",
            "                                                                 \n",
            " dense_11 (Dense)            (None, 10)                1290      \n",
            "                                                                 \n",
            "=================================================================\n",
            "Total params: 3,723,722\n",
            "Trainable params: 3,723,722\n",
            "Non-trainable params: 0\n",
            "_________________________________________________________________\n"
          ]
        }
      ],
      "source": [
        "cnn = tf.keras.models.Sequential()\n",
        "\n",
        "cnn.add(tf.keras.layers.Conv2D(filters=32, kernel_size=3, activation='relu', input_shape=[256, 256, 3]))\n",
        "\n",
        "cnn.add(tf.keras.layers.MaxPool2D(pool_size=2, strides=2))\n",
        "\n",
        "cnn.add(tf.keras.layers.Conv2D(filters=32, kernel_size=3, activation='relu'))\n",
        "\n",
        "cnn.add(tf.keras.layers.MaxPool2D(pool_size=2, strides=2))\n",
        "\n",
        "cnn.add(tf.keras.layers.Conv2D(filters=32, kernel_size=3, activation='relu'))\n",
        "\n",
        "cnn.add(tf.keras.layers.MaxPool2D(pool_size=2, strides=2))\n",
        "\n",
        "cnn.add(tf.keras.layers.Flatten())\n",
        "\n",
        "cnn.add(tf.keras.layers.Dense(units=128, activation='relu'))\n",
        "\n",
        "cnn.add(tf.keras.layers.Dropout(0.2))\n",
        "\n",
        "cnn.add(tf.keras.layers.Dense(units=128, activation='relu'))\n",
        "\n",
        "cnn.add(tf.keras.layers.Dense(units=10, activation='softmax'))\n",
        "\n",
        "cnn.compile(optimizer = 'adam', loss = 'categorical_crossentropy', metrics = ['accuracy'])\n",
        "\n",
        "cnn.summary()"
      ]
    },
    {
      "cell_type": "markdown",
      "metadata": {},
      "source": [
        "## Part 3 - Training the CNN"
      ]
    },
    {
      "cell_type": "code",
      "execution_count": 53,
      "metadata": {
        "colab": {
          "base_uri": "https://localhost:8080/",
          "height": 357
        },
        "id": "rziQyIcFwSDM",
        "outputId": "84a1fd17-36ae-4ad7-8020-e1c719a4ef7c"
      },
      "outputs": [
        {
          "name": "stdout",
          "output_type": "stream",
          "text": [
            "Epoch 1/5\n",
            "314/314 [==============================] - 243s 771ms/step - loss: 1.4326 - accuracy: 0.4996 - val_loss: 1.2195 - val_accuracy: 0.6223\n",
            "Epoch 2/5\n",
            "314/314 [==============================] - 240s 764ms/step - loss: 0.8491 - accuracy: 0.6994 - val_loss: 1.0398 - val_accuracy: 0.6875\n",
            "Epoch 3/5\n",
            "314/314 [==============================] - 246s 783ms/step - loss: 0.6754 - accuracy: 0.7659 - val_loss: 0.8480 - val_accuracy: 0.7454\n",
            "Epoch 4/5\n",
            "314/314 [==============================] - 253s 806ms/step - loss: 0.5734 - accuracy: 0.8021 - val_loss: 0.7053 - val_accuracy: 0.7838\n",
            "Epoch 5/5\n",
            "314/314 [==============================] - 232s 737ms/step - loss: 0.4928 - accuracy: 0.8214 - val_loss: 0.7142 - val_accuracy: 0.7654\n"
          ]
        }
      ],
      "source": [
        "cnn.fit(x = training_set, validation_data = test_set, epochs = 5)\n",
        "cnn.save(\"model.h5\")"
      ]
    },
    {
      "cell_type": "markdown",
      "metadata": {},
      "source": [
        "## Part 4 - Making a single prediction"
      ]
    },
    {
      "cell_type": "code",
      "execution_count": 54,
      "metadata": {},
      "outputs": [],
      "source": [
        "\n",
        "model=load_model('model.h5')\n",
        "\n",
        "\n",
        "# Mention name of the disease into list.\n",
        "Classes = [\"Apple___Apple_scab\",\"Apple___Black_rot\",\"Apple___Cedar_apple_rust\",\"Apple___healthy\",\"Tomato___Bacterial_spot\",\"Tomato___Early_blight\",\n",
        "\"Tomato___healthy\",\"Tomato___Late_blight\",\"Tomato___Leaf_Mold\",\"Tomato___Septoria_leaf_spot\"]\n",
        "\n",
        "def prepare(img_path):\n",
        "    img = image.load_img(img_path, target_size=(256, 256))\n",
        "    x = image.img_to_array(img)\n",
        "    x = x/255\n",
        "    return np.expand_dims(x, axis=0)\n",
        "    "
      ]
    },
    {
      "cell_type": "code",
      "execution_count": 57,
      "metadata": {},
      "outputs": [
        {
          "name": "stdout",
          "output_type": "stream",
          "text": [
            "Apple___Black_rot\n",
            "Apple___healthy\n",
            "Apple___Cedar_apple_rust\n",
            "Tomato___Late_blight\n"
          ]
        }
      ],
      "source": [
        "result = model.predict([prepare('dataset/Apple___Black_rot/00e909aa-e3ae-4558-9961-336bb0f35db3___JR_FrgE.S 8593.JPG')])\n",
        "result = np.where(result[0]== np.amax(result[0]))\n",
        "print(Classes[int(result[0])])\n",
        "\n",
        "\n",
        "result = model.predict([prepare('dataset/Apple___healthy/0e3c0777-c214-4749-b8ae-4985274d2f9e___RS_HL 7984.JPG')])\n",
        "result = np.where(result[0]== np.amax(result[0]))\n",
        "print(Classes[int(result[0])])\n",
        "\n",
        "\n",
        "result = model.predict([prepare('dataset/Apple___Cedar_apple_rust/809c7104-6f46-4117-8c8c-6d5491b2178d___FREC_C.Rust 3839.JPG')])\n",
        "result = np.where(result[0]== np.amax(result[0]))\n",
        "print(Classes[int(result[0])])\n",
        "\n",
        "\n",
        "result = model.predict([prepare('dataset/Tomato___Leaf_Mold/0e5b669e-8534-45ab-a3c0-63134e685069___Crnl_L.Mold 7144.JPG')])\n",
        "result = np.where(result[0]== np.amax(result[0]))\n",
        "print(Classes[int(result[0])])\n"
      ]
    }
  ],
  "metadata": {
    "colab": {
      "name": "plantDiseaseDetection.ipynb",
      "provenance": []
    },
    "interpreter": {
      "hash": "b413cafc8ed60d34eeea904d39cc7c4df9a2bd35ed66b8b6aeb500ac6e7562ff"
    },
    "kernelspec": {
      "display_name": "Python 3.10.4 64-bit",
      "language": "python",
      "name": "python3"
    },
    "language_info": {
      "codemirror_mode": {
        "name": "ipython",
        "version": 3
      },
      "file_extension": ".py",
      "mimetype": "text/x-python",
      "name": "python",
      "nbconvert_exporter": "python",
      "pygments_lexer": "ipython3",
      "version": "3.10.4"
    }
  },
  "nbformat": 4,
  "nbformat_minor": 0
}
